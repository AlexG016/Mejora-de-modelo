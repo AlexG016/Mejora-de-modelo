{
 "cells": [
  {
   "cell_type": "markdown",
   "metadata": {},
   "source": [
    "Initial training of SilvaNet.\n",
    "\n",
    "It saves the weights that are then used in the **transfer** scripts"
   ]
  },
  {
   "cell_type": "code",
   "execution_count": null,
   "metadata": {
    "id": "qm2RvX15UB33"
   },
   "outputs": [],
   "source": [
    "import os\n",
    "import torch\n",
    "from torch.utils.data import DataLoader\n",
    "import torch.nn as nn\n",
    "import pandas as pd\n",
    "import sys\n",
    "\n",
    "from network import SilvaNet\n",
    "\n",
    "from dataset import BeatDataset"
   ]
  },
  {
   "cell_type": "code",
   "execution_count": null,
   "metadata": {
    "id": "17EieHVgYxtU"
   },
   "outputs": [],
   "source": [
    "device = torch.device(\"cuda\" if torch.cuda.is_available() else \"cpu\")"
   ]
  },
  {
   "cell_type": "code",
   "execution_count": null,
   "metadata": {
    "id": "JufaqLS4U_zB"
   },
   "outputs": [],
   "source": [
    "#TRAINING SETTINGS\n",
    "BATCH_SIZE = 64\n",
    "EPOCHS = 10"
   ]
  },
  {
   "cell_type": "code",
   "execution_count": null,
   "metadata": {
    "id": "-_jNoCDRn1uJ"
   },
   "outputs": [],
   "source": [
    "#EXPERIMENT SETTINGS\n",
    "MODEL = SilvaNet\n",
    "NAME_EXPERIMENT = 'SilvaNet'\n",
    "DATASET = ['MIT_BIH_LongTerm', 'MIT_BIH_NormalSinus']\n",
    "N = 240000\n",
    "\n",
    "DATAROOT = './data'"
   ]
  },
  {
   "cell_type": "code",
   "execution_count": null,
   "metadata": {
    "id": "PvyJyvY_XEuz"
   },
   "outputs": [],
   "source": [
    "#LOAD DATASETS\n",
    "PARTITION = 'train' #<-- this should never change, since it is a training script\n",
    "dataset_train = BeatDataset(f'{DATAROOT}/dataset',\n",
    "                            [f'{x}/{PARTITION}' for x in DATASET],\n",
    "                            N=N)\n",
    "loader_train = DataLoader(dataset_train, batch_size=BATCH_SIZE, shuffle=True)"
   ]
  },
  {
   "cell_type": "code",
   "execution_count": null,
   "metadata": {
    "id": "_u8UiGTwXHJc"
   },
   "outputs": [],
   "source": [
    "model = MODEL()\n",
    "model = model.to(device)"
   ]
  },
  {
   "cell_type": "code",
   "execution_count": null,
   "metadata": {
    "id": "obAg-y4GXJwM"
   },
   "outputs": [],
   "source": [
    "criterion = nn.CrossEntropyLoss(weight = torch.Tensor([0.06, 0.94]).to(device))"
   ]
  },
  {
   "cell_type": "code",
   "execution_count": null,
   "metadata": {
    "colab": {
     "base_uri": "https://localhost:8080/",
     "height": 417
    },
    "executionInfo": {
     "elapsed": 926305,
     "status": "error",
     "timestamp": 1619682123805,
     "user": {
      "displayName": "Andrea Bizzego",
      "photoUrl": "",
      "userId": "02084023300747403289"
     },
     "user_tz": -120
    },
    "id": "U0ruOYHeXQ3J",
    "outputId": "9feccc05-4d71-4a35-f1b4-c3c6b04d1a18"
   },
   "outputs": [],
   "source": [
    "#%%\n",
    "#TRAIN\n",
    "model.train()\n",
    "LR = 1e-2\n",
    "\n",
    "losses_tr = []\n",
    "\n",
    "print(datetime.datetime.now() )\n",
    "for epoch in range(EPOCHS):\n",
    "  if epoch % 50 == 0:\n",
    "    optimizer = torch.optim.Adadelta(model.parameters(), lr=LR)\n",
    "    LR/=10\n",
    "\n",
    "  #for each batch in the dataset\n",
    "  for j, batch in enumerate(loader_train):\n",
    "    optimizer.zero_grad()\n",
    "      \n",
    "    data = batch[\"data\"].to(device)\n",
    "    target = batch[\"target\"].to(device)\n",
    "    output = model(data) \n",
    "      \n",
    "    loss = criterion(output, target) #compute loss\n",
    "    loss.backward() #backward\n",
    "    optimizer.step() #update weights\n",
    "    loss_tr = loss.item()\n",
    "\n",
    "    if j % 5 == 0:\n",
    "      losses_tr.append(loss_tr)\n",
    "\n",
    "    #print status to stdout\n",
    "    sys.stdout.write('\\r Epoch {} of {}  [{:.2f}%] - loss TR: {:.4f}'.format(epoch+1, EPOCHS, 100*j/len(loader_train), loss_tr))\n",
    "print(datetime.datetime.now() )"
   ]
  },
  {
   "cell_type": "code",
   "execution_count": null,
   "metadata": {
    "id": "ZnRZkAT3Suae"
   },
   "outputs": [],
   "source": [
    "result_dir = f'{DATAROOT}/results/{NAME_EXPERIMENT}' \n",
    "os.makedirs(result_dir)"
   ]
  },
  {
   "cell_type": "code",
   "execution_count": null,
   "metadata": {
    "colab": {
     "base_uri": "https://localhost:8080/",
     "height": 464
    },
    "executionInfo": {
     "elapsed": 1513,
     "status": "error",
     "timestamp": 1619681027439,
     "user": {
      "displayName": "Andrea Bizzego",
      "photoUrl": "",
      "userId": "02084023300747403289"
     },
     "user_tz": -120
    },
    "id": "XZTAKhjmXW-s",
    "outputId": "9371140f-0508-4ac2-b9ba-99af9656e70a"
   },
   "outputs": [],
   "source": [
    "import matplotlib.pyplot as plt\n",
    "\n",
    "plt.plot(losses_tr)\n",
    "plt.xlabel('Iterations')\n",
    "plt.ylabel('Loss')\n",
    "plt.savefig(f'{result_dir}/losses.png')"
   ]
  },
  {
   "cell_type": "code",
   "execution_count": null,
   "metadata": {
    "id": "41655gcw8eQS"
   },
   "outputs": [],
   "source": [
    "torch.save(model.state_dict(), f'{result_dir}/weights.pth')"
   ]
  },
  {
   "cell_type": "code",
   "execution_count": null,
   "metadata": {
    "id": "DJu0lk6cB4kR"
   },
   "outputs": [],
   "source": []
  }
 ],
 "metadata": {
  "colab": {
   "collapsed_sections": [],
   "name": "training_silva.ipynb",
   "provenance": []
  },
  "kernelspec": {
   "display_name": "Python 3 (ipykernel)",
   "language": "python",
   "name": "python3"
  },
  "language_info": {
   "codemirror_mode": {
    "name": "ipython",
    "version": 3
   },
   "file_extension": ".py",
   "mimetype": "text/x-python",
   "name": "python",
   "nbconvert_exporter": "python",
   "pygments_lexer": "ipython3",
   "version": "3.9.5"
  }
 },
 "nbformat": 4,
 "nbformat_minor": 4
}
