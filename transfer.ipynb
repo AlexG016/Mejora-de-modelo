{
 "cells": [
  {
   "cell_type": "markdown",
   "metadata": {},
   "source": [
    "Transfer learning starting from the pre-trained SilvaNet network"
   ]
  },
  {
   "cell_type": "code",
   "execution_count": null,
   "metadata": {
    "colab": {
     "base_uri": "https://localhost:8080/"
    },
    "executionInfo": {
     "elapsed": 25151,
     "status": "ok",
     "timestamp": 1619007518793,
     "user": {
      "displayName": "Andrea Bizzego",
      "photoUrl": "",
      "userId": "02084023300747403289"
     },
     "user_tz": -120
    },
    "id": "QxIerpyWVTFq",
    "outputId": "04a85874-34cf-4acd-de97-9e1cd28e1b93"
   },
   "outputs": [],
   "source": [
    "from google.colab import drive\n",
    "drive.mount('/gdrive')"
   ]
  },
  {
   "cell_type": "code",
   "execution_count": null,
   "metadata": {
    "id": "-x7O4X7IZauF"
   },
   "outputs": [],
   "source": [
    "!cp -a /gdrive/MyDrive/DL_beat_detection ."
   ]
  },
  {
   "cell_type": "code",
   "execution_count": null,
   "metadata": {
    "id": "VJRjdZRNNUYn"
   },
   "outputs": [],
   "source": [
    "import os"
   ]
  },
  {
   "cell_type": "code",
   "execution_count": null,
   "metadata": {
    "id": "HhgMaIQ9voLx"
   },
   "outputs": [],
   "source": [
    "os.chdir('DL_beat_detection/data')"
   ]
  },
  {
   "cell_type": "code",
   "execution_count": null,
   "metadata": {
    "id": "k6YPBPTatWtd"
   },
   "outputs": [],
   "source": [
    "#!tar xfz MIT_BIH_LongTerm.tar.gz \n",
    "#!tar xfz MIT_BIH_NormalSinus.tar.gz \n",
    "!tar xfz MIT_BIH_Arrhythmia.tar.gz "
   ]
  },
  {
   "cell_type": "code",
   "execution_count": null,
   "metadata": {
    "id": "4m3sG6HOv0TV"
   },
   "outputs": [],
   "source": [
    "os.chdir('..')"
   ]
  },
  {
   "cell_type": "code",
   "execution_count": null,
   "metadata": {
    "id": "qm2RvX15UB33"
   },
   "outputs": [],
   "source": [
    "import os\n",
    "import torch\n",
    "from torch.utils.data import DataLoader\n",
    "import torch.nn as nn\n",
    "import pandas as pd\n",
    "import sys\n",
    "\n",
    "from network import SilvaNet\n",
    "\n",
    "from dataset import BeatDataset"
   ]
  },
  {
   "cell_type": "code",
   "execution_count": null,
   "metadata": {
    "id": "17EieHVgYxtU"
   },
   "outputs": [],
   "source": [
    "device = torch.device(\"cuda\" if torch.cuda.is_available() else \"cpu\")"
   ]
  },
  {
   "cell_type": "code",
   "execution_count": null,
   "metadata": {},
   "outputs": [],
   "source": [
    "device"
   ]
  },
  {
   "cell_type": "code",
   "execution_count": null,
   "metadata": {},
   "outputs": [],
   "source": [
    "#TRAINING SETTINGS\n",
    "BATCH_SIZE = 64\n",
    "EPOCHS = 10"
   ]
  },
  {
   "cell_type": "code",
   "execution_count": null,
   "metadata": {
    "id": "JufaqLS4U_zB"
   },
   "outputs": [],
   "source": [
    "#EXPERIMENT SETTINGS\n",
    "MODEL = SilvaNet\n",
    "NAME_EXPERIMENT = 'transfer_SilvaNet_ComfTech_Movement'\n",
    "DATASET = ['WCS_ComfTech_movement']\n",
    "PARTITION = 'train'\n",
    "N = 14886\n",
    "\n",
    "DATAROOT = './data'\n"
   ]
  },
  {
   "cell_type": "code",
   "execution_count": null,
   "metadata": {
    "id": "mLei_7RrphGG"
   },
   "outputs": [],
   "source": [
    "#LOAD DATASETS\n",
    "dataset = BeatDataset(f'{DATAROOT}/dataset',\n",
    "                      [f'{x}/{PARTITION}' for x in DATASET],\n",
    "                      N=N)\n",
    "\n",
    "loader_train = DataLoader(dataset, batch_size=BATCH_SIZE, shuffle=True)"
   ]
  },
  {
   "cell_type": "code",
   "execution_count": null,
   "metadata": {
    "id": "_u8UiGTwXHJc"
   },
   "outputs": [],
   "source": [
    "state_dict = torch.load(f'{DATAROOT}/results/SilvaNet/weights.pth')\n",
    "\n",
    "model = MODEL()\n",
    "model.load_state_dict(state_dict)\n",
    "model = model.to(device)"
   ]
  },
  {
   "cell_type": "code",
   "execution_count": null,
   "metadata": {},
   "outputs": [],
   "source": [
    "criterion = nn.CrossEntropyLoss(weight = torch.Tensor([0.06, 0.94]).to(device))"
   ]
  },
  {
   "cell_type": "code",
   "execution_count": null,
   "metadata": {},
   "outputs": [],
   "source": [
    "#only retrain the fully connected block\n",
    "for p in list(model.parameters())[:-6]:\n",
    "    p.requires_grad = False"
   ]
  },
  {
   "cell_type": "code",
   "execution_count": null,
   "metadata": {
    "id": "U0ruOYHeXQ3J"
   },
   "outputs": [],
   "source": [
    "#%%\n",
    "#TRAIN\n",
    "model.train()\n",
    "LR = 1e-2\n",
    "\n",
    "losses_tr = []\n",
    "\n",
    "for epoch in range(EPOCHS):\n",
    "    if epoch % 50 == 0:\n",
    "        optimizer = torch.optim.Adadelta(model.parameters(), lr=LR)\n",
    "        LR/=10\n",
    "\n",
    "    #for each batch in the dataset\n",
    "    for j, batch in enumerate(loader_train):\n",
    "        optimizer.zero_grad()\n",
    "\n",
    "        data = batch[\"data\"].to(device)\n",
    "        target = batch[\"target\"].to(device)\n",
    "        output = model(data) \n",
    "\n",
    "        loss = criterion(output, target) #compute loss\n",
    "        loss.backward() #backward\n",
    "        optimizer.step() #update weights\n",
    "        loss_tr = loss.item()\n",
    "\n",
    "        if j % 5 == 0:\n",
    "            losses_tr.append(loss_tr)\n",
    "\n",
    "            #print status to stdout\n",
    "            sys.stdout.write('\\r Epoch {} of {}  [{:.2f}%] - loss TR: {:.4f}'.format(epoch+1, EPOCHS, 100*j/len(loader_train), loss_tr))"
   ]
  },
  {
   "cell_type": "code",
   "execution_count": null,
   "metadata": {
    "id": "lFy-f1e4Zju5"
   },
   "outputs": [],
   "source": [
    "result_dir = f'{DATAROOT}/results/{NAME_EXPERIMENT}' \n",
    "os.makedirs(result_dir)"
   ]
  },
  {
   "cell_type": "code",
   "execution_count": null,
   "metadata": {
    "id": "rkZJ1_lJCl-x"
   },
   "outputs": [],
   "source": [
    "import matplotlib.pyplot as plt\n",
    "\n",
    "plt.plot(losses_tr)\n",
    "plt.xlabel('Iterations')\n",
    "plt.ylabel('Loss')\n",
    "plt.savefig(f'{result_dir}/losses.png')"
   ]
  },
  {
   "cell_type": "code",
   "execution_count": null,
   "metadata": {},
   "outputs": [],
   "source": [
    "torch.save(model.state_dict(), f'{result_dir}/weights.pth')"
   ]
  },
  {
   "cell_type": "code",
   "execution_count": null,
   "metadata": {},
   "outputs": [],
   "source": []
  }
 ],
 "metadata": {
  "accelerator": "GPU",
  "colab": {
   "authorship_tag": "ABX9TyNREGCYzHmv/7Otj6HWfL29",
   "collapsed_sections": [],
   "name": "predict.ipynb",
   "provenance": []
  },
  "kernelspec": {
   "display_name": "deep",
   "language": "python",
   "name": "deep"
  },
  "language_info": {
   "codemirror_mode": {
    "name": "ipython",
    "version": 3
   },
   "file_extension": ".py",
   "mimetype": "text/x-python",
   "name": "python",
   "nbconvert_exporter": "python",
   "pygments_lexer": "ipython3",
   "version": "3.9.7"
  }
 },
 "nbformat": 4,
 "nbformat_minor": 4
}
