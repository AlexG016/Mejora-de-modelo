{
 "cells": [
  {
   "cell_type": "markdown",
   "metadata": {},
   "source": [
    "Generate the predictions of a transferred network"
   ]
  },
  {
   "cell_type": "code",
   "execution_count": null,
   "metadata": {
    "colab": {
     "base_uri": "https://localhost:8080/"
    },
    "executionInfo": {
     "elapsed": 25151,
     "status": "ok",
     "timestamp": 1619007518793,
     "user": {
      "displayName": "Andrea Bizzego",
      "photoUrl": "",
      "userId": "02084023300747403289"
     },
     "user_tz": -120
    },
    "id": "QxIerpyWVTFq",
    "outputId": "04a85874-34cf-4acd-de97-9e1cd28e1b93"
   },
   "outputs": [],
   "source": [
    "from google.colab import drive\n",
    "drive.mount('/gdrive')"
   ]
  },
  {
   "cell_type": "code",
   "execution_count": null,
   "metadata": {
    "id": "-x7O4X7IZauF"
   },
   "outputs": [],
   "source": [
    "!cp -a /gdrive/MyDrive/DL_beat_detection ."
   ]
  },
  {
   "cell_type": "code",
   "execution_count": null,
   "metadata": {
    "id": "VJRjdZRNNUYn"
   },
   "outputs": [],
   "source": [
    "import os"
   ]
  },
  {
   "cell_type": "code",
   "execution_count": null,
   "metadata": {
    "id": "HhgMaIQ9voLx"
   },
   "outputs": [],
   "source": [
    "os.chdir('DL_beat_detection/data')"
   ]
  },
  {
   "cell_type": "code",
   "execution_count": null,
   "metadata": {
    "id": "k6YPBPTatWtd"
   },
   "outputs": [],
   "source": [
    "#!tar xfz MIT_BIH_LongTerm.tar.gz \n",
    "#!tar xfz MIT_BIH_NormalSinus.tar.gz \n",
    "!tar xfz MIT_BIH_Arrhythmia.tar.gz "
   ]
  },
  {
   "cell_type": "code",
   "execution_count": null,
   "metadata": {
    "id": "4m3sG6HOv0TV"
   },
   "outputs": [],
   "source": [
    "os.chdir('..')"
   ]
  },
  {
   "cell_type": "code",
   "execution_count": null,
   "metadata": {
    "id": "qm2RvX15UB33"
   },
   "outputs": [],
   "source": [
    "import os\n",
    "import torch\n",
    "from torch.utils.data import DataLoader\n",
    "import torch.nn as nn\n",
    "import pandas as pd\n",
    "import sys\n",
    "\n",
    "from network import SilvaNet\n",
    "\n",
    "from dataset import BeatDataset"
   ]
  },
  {
   "cell_type": "code",
   "execution_count": null,
   "metadata": {
    "id": "17EieHVgYxtU"
   },
   "outputs": [],
   "source": [
    "device = torch.device(\"cuda\" if torch.cuda.is_available() else \"cpu\")"
   ]
  },
  {
   "cell_type": "code",
   "execution_count": null,
   "metadata": {
    "id": "JufaqLS4U_zB"
   },
   "outputs": [],
   "source": [
    "#EXPERIMENT SETTINGS\n",
    "MODEL = SilvaNet\n",
    "NAME_EXPERIMENT = 'transfer_SilvaNet_ComfTech_Movement'\n",
    "DATASET = ['WCS_ComfTech_movement']\n",
    "PARTITION= 'test'\n",
    "N = 7443\n",
    "\n",
    "DATAROOT = './data'\n"
   ]
  },
  {
   "cell_type": "code",
   "execution_count": null,
   "metadata": {
    "id": "mLei_7RrphGG"
   },
   "outputs": [],
   "source": [
    "#LOAD DATASETS\n",
    "dataset = BeatDataset(f'{DATAROOT}/dataset',\n",
    "                      [f'{x}/{PARTITION}' for x in DATASET],\n",
    "                      N=N)"
   ]
  },
  {
   "cell_type": "code",
   "execution_count": null,
   "metadata": {
    "id": "_u8UiGTwXHJc"
   },
   "outputs": [],
   "source": [
    "state_dict = torch.load(f'{DATAROOT}/results/{NAME_EXPERIMENT}/weights.pth')\n",
    "\n",
    "model = MODEL()\n",
    "model.load_state_dict(state_dict)\n",
    "model = model.to(device)"
   ]
  },
  {
   "cell_type": "code",
   "execution_count": null,
   "metadata": {
    "id": "U0ruOYHeXQ3J"
   },
   "outputs": [],
   "source": [
    "model.eval()\n",
    "\n",
    "results = []\n",
    "\n",
    "with torch.no_grad():\n",
    "    for sample in dataset:\n",
    "        signal = sample[\"data\"].unsqueeze(0).to(device)\n",
    "        target = sample[\"target\"]\n",
    "        output = model(signal) #forward\n",
    "        _, pred = torch.max(output,1)\n",
    "        \n",
    "        results_sample = {}\n",
    "        results_sample['pred'] = pred.data.cpu().numpy()\n",
    "        results_sample['target'] = int(target)\n",
    "        \n",
    "        results.append(pd.DataFrame(results_sample, index = [sample['sample']]))\n"
   ]
  },
  {
   "cell_type": "code",
   "execution_count": null,
   "metadata": {
    "id": "lFy-f1e4Zju5"
   },
   "outputs": [],
   "source": [
    "results = pd.concat(results)\n",
    "results.to_csv(f'{DATAROOT}/predictions/{NAME_EXPERIMENT}___{PARTITION}.csv')"
   ]
  },
  {
   "cell_type": "code",
   "execution_count": null,
   "metadata": {
    "id": "rkZJ1_lJCl-x"
   },
   "outputs": [],
   "source": [
    "f'{DATAROOT}/predictions/{NAME_EXPERIMENT}___{PARTITION}.csv'\n"
   ]
  }
 ],
 "metadata": {
  "accelerator": "GPU",
  "colab": {
   "authorship_tag": "ABX9TyNREGCYzHmv/7Otj6HWfL29",
   "collapsed_sections": [],
   "name": "predict.ipynb",
   "provenance": []
  },
  "kernelspec": {
   "display_name": "deep",
   "language": "python",
   "name": "deep"
  },
  "language_info": {
   "codemirror_mode": {
    "name": "ipython",
    "version": 3
   },
   "file_extension": ".py",
   "mimetype": "text/x-python",
   "name": "python",
   "nbconvert_exporter": "python",
   "pygments_lexer": "ipython3",
   "version": "3.9.7"
  }
 },
 "nbformat": 4,
 "nbformat_minor": 4
}
